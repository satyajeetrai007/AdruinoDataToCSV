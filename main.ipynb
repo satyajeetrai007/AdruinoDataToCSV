{
 "cells": [
  {
   "cell_type": "markdown",
   "id": "b07335f8-765f-4ed3-ae61-8610c880beef",
   "metadata": {},
   "source": [
    "Change the name of CSV file to get the data in seperate file , otherwise it will append the data in the same CSV file."
   ]
  },
  {
   "cell_type": "code",
   "execution_count": 1,
   "id": "b0b1dfc2-91a6-40c8-b4e9-4804f2854a25",
   "metadata": {},
   "outputs": [
    {
     "name": "stdout",
     "output_type": "stream",
     "text": [
      "SENSOR DATA IS :548,522\n",
      "SENSOR DATA IS :447,444\n",
      "SENSOR DATA IS :405,402\n",
      "SENSOR DATA IS :375,373\n",
      "SENSOR DATA IS :355,356\n",
      "SENSOR DATA IS :346,348\n",
      "SENSOR DATA IS :343,344\n",
      "SENSOR DATA IS :339,342\n",
      "SENSOR DATA IS :339,342\n",
      "SENSOR DATA IS :340,343\n",
      "SENSOR DATA IS :342,344\n",
      "SENSOR DATA IS :344,346\n",
      "SENSOR DATA IS :346,348\n",
      "SENSOR DATA IS :348,349\n",
      "SENSOR DATA IS :354,359\n",
      "SENSOR DATA IS :383,385\n",
      "SENSOR DATA IS :418,415\n",
      "SENSOR DATA IS :450,444\n",
      "SENSOR DATA IS :476,465\n",
      "SENSOR DATA IS :486,475\n",
      "SENSOR DATA IS :493,478\n",
      "SENSOR DATA IS :492,479\n",
      "SENSOR DATA IS :491,478\n",
      "SENSOR DATA IS :488,476\n",
      "SENSOR DATA IS :486,474\n",
      "SENSOR DATA IS :483,471\n",
      "SENSOR DATA IS :467,454\n",
      "SENSOR DATA IS :430,420\n",
      "Program stopped by user.\n",
      "Serial port closed.\n"
     ]
    }
   ],
   "source": [
    "import serial\n",
    "import time\n",
    "import csv\n",
    "\n",
    "\n",
    "port = 'COM13'  # CHANGE THIS TO ARDUINO SERIAL PORT \n",
    "baud_rate = 9600 \n",
    "timeout = 1  #  I HAVE DEFINED TIMEOUT FOR READ OPERATION.\n",
    "\n",
    "ser = serial.Serial(port, baud_rate, timeout=timeout)\n",
    "time.sleep(2)\n",
    "\n",
    "with open('sensor_data.csv', 'a', newline='') as csvfile:\n",
    "    csv_writer = csv.writer(csvfile)\n",
    "    csvfile.seek(0, 2)  \n",
    "    if csvfile.tell() == 0: \n",
    "        csv_writer.writerow(['Sensor1', 'Sensor2'])  # THIS IS DEFAULT COLUMN NAME OF CSV FILE , CHANGE THIS TO YOUR SENSOR NAME\n",
    "\n",
    "    try:\n",
    "        while True:\n",
    "            if ser.in_waiting > 0: # AGAR DATA HAI \n",
    "                line = ser.readline().decode('utf-8').rstrip()  # DATA FROM ARDUINO THROUGH SERIAL PORT WILL BE STREAM OF BITS , THEREFORE WE NEED TO DECODE IT .\n",
    "                print(f'SENSOR DATA IS :{line}')\n",
    "                sensor1, sensor2 = line.split(',')\n",
    "               \n",
    "                sensor1 = float(sensor1)  # FLOAT IS A GOOD OPTION FOR ANALOG SENSORS\n",
    "                sensor2 = float(sensor2) \n",
    "               \n",
    "                csv_writer.writerow([sensor1, sensor2])\n",
    "    except KeyboardInterrupt: \n",
    "        print(\"Program stopped by user.\")\n",
    "    finally:\n",
    "        ser.close()  # Close the serial port\n",
    "        print(\"Serial port closed.\")\n"
   ]
  },
  {
   "cell_type": "code",
   "execution_count": null,
   "id": "20204d4a-8ca1-46a2-9157-f12c49d17d47",
   "metadata": {},
   "outputs": [],
   "source": []
  }
 ],
 "metadata": {
  "kernelspec": {
   "display_name": "Python 3 (ipykernel)",
   "language": "python",
   "name": "python3"
  },
  "language_info": {
   "codemirror_mode": {
    "name": "ipython",
    "version": 3
   },
   "file_extension": ".py",
   "mimetype": "text/x-python",
   "name": "python",
   "nbconvert_exporter": "python",
   "pygments_lexer": "ipython3",
   "version": "3.12.3"
  }
 },
 "nbformat": 4,
 "nbformat_minor": 5
}
